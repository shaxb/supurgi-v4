{
 "cells": [
  {
   "cell_type": "code",
   "execution_count": null,
   "id": "7cf998c6",
   "metadata": {},
   "outputs": [],
   "source": []
  },
  {
   "cell_type": "code",
   "execution_count": null,
   "id": "d302c4f4",
   "metadata": {},
   "outputs": [],
   "source": [
    "| Service                 | Primary Purpose                         | Criticality | Key Endpoints                               |\n",
    "|-------------------------|----------------------------------------|-------------|---------------------------------------------|\n",
    "| Market Data Service     | Price feeds and market information      | Essential   | /symbols, /price/{symbol}, /historical      |\n",
    "| Strategy Service        | Trading logic and signal generation     | Essential   | /strategies, /analyze, /signals             |\n",
    "| Risk Management Service | Position sizing and risk controls       | Essential   | /validate-order, /risk-limits, /exposure    |\n",
    "| Execution Service       | Order placement and management          | Essential   | /orders, /positions, /close                 |\n",
    "| Analytics Service       | Performance tracking and analysis       | Essential   | /performance, /reports, /metrics            |\n",
    "| Dashboard Service       | User interface and visualization        | Essential   | /, /api/dashboard-data, /updates            |\n",
    "| Notification Service    | Alerts for key events                   | Recommended | /alerts, /subscribe, /send                  |\n",
    "| Configuration Service   | Centralized settings management         | Recommended | /config, /parameters, /defaults             |\n",
    "| Authentication Service  | Access control and security             | Optional    | /login, /verify, /permissions               |\n",
    "| Data Storage Service    | Long-term historical data               | Optional    | /store, /retrieve, /aggregate               |"
   ]
  },
  {
   "cell_type": "code",
   "execution_count": null,
   "id": "54eaf316",
   "metadata": {},
   "outputs": [],
   "source": []
  },
  {
   "cell_type": "code",
   "execution_count": null,
   "id": "d691f936",
   "metadata": {},
   "outputs": [],
   "source": [
    "┌─────────────────┐      ┌─────────────────┐      ┌─────────────────┐      ┌─────────────────┐\n",
    "│                 │      │                 │      │                 │      │                 │\n",
    "│  Market Data    │──1──►│    Strategy     │──2──►│ Risk Management │──3──►│   Execution     │\n",
    "│    Service      │◄─8───│    Service      │◄─7───│    Service      │◄─4───│    Service      │\n",
    "│                 │      │                 │      │                 │      │                 │\n",
    "└────────┬────────┘      └────────┬────────┘      └────────┬────────┘      └────────┬────────┘\n",
    "         │                        │                        │                        │\n",
    "         │                        │                        │                        │\n",
    "         9                        10                       11                       12\n",
    "         │                        │                        │                        │\n",
    "         ▼                        ▼                        ▼                        ▼\n",
    "┌────────────────────────────────────────────────────────────────────────────────────────────┐\n",
    "│                                                                                            │\n",
    "│                                  Analytics Service                                         │\n",
    "│                                                                                            │\n",
    "└────────────────────────────────────────────────┬─────────────────────────────────────────┬─┘\n",
    "                                                 │                                         │\n",
    "                                                 │                                         │\n",
    "                                                 │                                         │\n",
    "                                                 │                                         │\n",
    "                                                13                                        14\n",
    "                                                 │                                         │\n",
    "                                                 ▼                                         ▼\n",
    "                                  ┌─────────────────────────┐             ┌─────────────────────────┐\n",
    "                                  │                         │             │                         │\n",
    "                                  │   Dashboard Service     │             │  Notification Service   │\n",
    "                                  │                         │             │                         │\n",
    "                                  └─────────────────────────┘             └─────────────────────────┘"
   ]
  },
  {
   "cell_type": "markdown",
   "id": "eb222f57",
   "metadata": {},
   "source": []
  },
  {
   "cell_type": "code",
   "execution_count": null,
   "id": "62cce63d",
   "metadata": {},
   "outputs": [],
   "source": [
    "1.  Market Data → Strategy: Provide price feeds and market data\n",
    "2.  Strategy → Risk Management: Send trading signals for risk validation\n",
    "3.  Risk Management → Execution: Forward approved orders for execution\n",
    "4.  Execution → Risk Management: Report order status and execution details\n",
    "5.  Risk Management → Strategy: Provide feedback on order approval/rejection\n",
    "6.  Strategy → Market Data: Request historical data for analysis\n",
    "7.  Risk Management → Strategy: Update risk parameters and constraints\n",
    "8.  Market Data → Strategy: Stream real-time price updates\n",
    "9.  Market Data → Analytics: Supply raw market data for storage\n",
    "10. Strategy → Analytics: Send signals and strategy performance data\n",
    "11. Risk Management → Analytics: Report risk metrics and limit usage\n",
    "12. Execution → Analytics: Report actual trades and position information\n",
    "13. Analytics → Dashboard: Supply processed data for visualization\n",
    "14. Analytics → Notification: Trigger alerts based on conditions"
   ]
  }
 ],
 "metadata": {
  "language_info": {
   "name": "python"
  }
 },
 "nbformat": 4,
 "nbformat_minor": 5
}
